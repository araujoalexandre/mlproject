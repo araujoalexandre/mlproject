{
 "cells": [
  {
   "cell_type": "code",
   "execution_count": 1,
   "metadata": {
    "collapsed": false
   },
   "outputs": [],
   "source": [
    "from sklearn.datasets import make_classification\n",
    "from sklearn.linear_model import LogisticRegression\n",
    "from sklearn.metrics import log_loss\n",
    "\n",
    "from kaggle.models.LogisticRegression import LogisticRegressionCustom\n",
    "\n",
    "import numpy as np\n",
    "\n",
    "from datetime import datetime\n",
    "\n",
    "X, y = make_classification(n_samples=1000000, n_features=150, n_informative=80, n_redundant=20)\n",
    "X = np.column_stack((np.ones(len(X)), X)) # include intercept to dataset\n",
    "\n",
    "def sklearn():\n",
    "    # Scikit-Learn\n",
    "    start = datetime.now()\n",
    "    model = LogisticRegression(solver='newton-cg', fit_intercept=False)\n",
    "    model.fit(X, y)\n",
    "    y_hat = model.predict_proba(X)[:, 1]\n",
    "\n",
    "    print('nb iterations : {}'.format(model.n_iter_))\n",
    "    print('logloss : {:.5f}'.format(log_loss(y, y_hat)))\n",
    "    print('time : {}\\n'.format(datetime.now() - start))\n",
    "\n",
    "def custom():\n",
    "    # Custom Newton-cg\n",
    "    start = datetime.now()\n",
    "    model = LogisticRegressionCustom()\n",
    "    model.fit(X, y)\n",
    "    y_hat = model.predict_proba(X)[:, 1]\n",
    "\n",
    "    print('nb iterations : {}'.format(model.n_iter_))\n",
    "    print('logloss : {:.5f}'.format(log_loss(y, y_hat)))\n",
    "    print('time : {}\\n'.format(datetime.now() - start))\n"
   ]
  },
  {
   "cell_type": "code",
   "execution_count": 3,
   "metadata": {
    "collapsed": false
   },
   "outputs": [
    {
     "name": "stdout",
     "output_type": "stream",
     "text": [
      "nb iterations : 6\n",
      "logloss : 0.41251\n",
      "time : 0:00:06.713664\n",
      "\n",
      " "
     ]
    }
   ],
   "source": [
    "%prun -l 4 custom()"
   ]
  },
  {
   "cell_type": "code",
   "execution_count": null,
   "metadata": {
    "collapsed": true
   },
   "outputs": [],
   "source": [
    "         2844 function calls in 6.714 seconds\n",
    "\n",
    "   Ordered by: internal time\n",
    "   List reduced from 142 to 4 due to restriction <4>\n",
    "\n",
    "   ncalls  tottime  percall  cumtime  percall filename:lineno(function)\n",
    "        1    6.221    6.221    6.436    6.436 LogisticRegression.py:76(_newton_cg)\n",
    "        8    0.232    0.029    0.232    0.029 LogisticRegression.py:30(_sigmoid)\n",
    "        7    0.077    0.011    0.077    0.011 {method 'sort' of 'numpy.ndarray' objects}\n",
    "        1    0.058    0.058    0.208    0.208 classification.py:1544(log_loss)"
   ]
  },
  {
   "cell_type": "code",
   "execution_count": null,
   "metadata": {
    "collapsed": true
   },
   "outputs": [],
   "source": []
  },
  {
   "cell_type": "code",
   "execution_count": 2,
   "metadata": {
    "collapsed": false,
    "scrolled": true
   },
   "outputs": [
    {
     "name": "stderr",
     "output_type": "stream",
     "text": [
      "/usr/local/lib/python3.5/dist-packages/scipy-0.18.0-py3.5-linux-x86_64.egg/scipy/optimize/linesearch.py:285: LineSearchWarning: The line search algorithm did not converge\n",
      "  warn('The line search algorithm did not converge', LineSearchWarning)\n",
      "/usr/local/lib/python3.5/dist-packages/sklearn/utils/optimize.py:195: UserWarning: Line Search failed\n",
      "  warnings.warn('Line Search failed')\n"
     ]
    },
    {
     "name": "stdout",
     "output_type": "stream",
     "text": [
      "nb iterations : [22]\n",
      "logloss : 0.41251\n",
      "time : 0:00:47.256582\n",
      "\n",
      " "
     ]
    }
   ],
   "source": [
    "%prun -l 4 sklearn()"
   ]
  },
  {
   "cell_type": "code",
   "execution_count": null,
   "metadata": {
    "collapsed": true
   },
   "outputs": [],
   "source": [
    "         9517 function calls (9483 primitive calls) in 47.257 seconds\n",
    "\n",
    "   Ordered by: internal time\n",
    "   List reduced from 307 to 4 due to restriction <4>\n",
    "\n",
    "   ncalls  tottime  percall  cumtime  percall filename:lineno(function)\n",
    "      686   30.493    0.044   30.493    0.044 {method 'dot' of 'numpy.ndarray' objects}\n",
    "       23    7.233    0.314    9.309    0.405 logistic.py:167(_logistic_grad_hess)\n",
    "      922    4.884    0.005    4.884    0.005 {built-in method numpy.core.multiarray.dot}\n",
    "       48    3.084    0.064    3.084    0.064 {sklearn.utils._logistic_sigmoid._log_logistic_sigmoid}"
   ]
  }
 ],
 "metadata": {
  "kernelspec": {
   "display_name": "Python 3",
   "language": "python",
   "name": "python3"
  },
  "language_info": {
   "codemirror_mode": {
    "name": "ipython",
    "version": 3
   },
   "file_extension": ".py",
   "mimetype": "text/x-python",
   "name": "python",
   "nbconvert_exporter": "python",
   "pygments_lexer": "ipython3",
   "version": "3.5.2"
  }
 },
 "nbformat": 4,
 "nbformat_minor": 0
}
